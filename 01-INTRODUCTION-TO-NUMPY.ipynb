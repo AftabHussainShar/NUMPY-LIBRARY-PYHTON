{
 "cells": [
  {
   "attachments": {},
   "cell_type": "markdown",
   "metadata": {},
   "source": [
    "## Numpy Introduction\n",
    "\n",
    "- It is numpy library designed for Scientific Computition.\n",
    "- It is really really fast as campare to ordinary list.\n",
    "- NumPy arrays are main way to use NumPy libarary.\n",
    "- In this Series we will learn how to work with multidimensional arrays using NumPy.\n",
    "- It is fast because it has binding with C programing. "
   ]
  },
  {
   "attachments": {},
   "cell_type": "markdown",
   "metadata": {},
   "source": [
    "> 1-D Array        = Vector\n",
    "\n",
    "> 2-D Array        = Matrix\n",
    "\n",
    "> n-D Array        = Tensor"
   ]
  }
 ],
 "metadata": {
  "language_info": {
   "name": "python"
  },
  "orig_nbformat": 4
 },
 "nbformat": 4,
 "nbformat_minor": 2
}
